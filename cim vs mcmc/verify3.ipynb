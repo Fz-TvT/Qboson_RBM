{
 "cells": [
  {
   "cell_type": "code",
   "execution_count": 1,
   "id": "b2f4eac0-dd18-4508-973a-a349d1f18b38",
   "metadata": {},
   "outputs": [],
   "source": [
    "import numpy as np\n",
    "def map_clip(old,coup,bias,a,b,noi):   #linear map with clipping\n",
    "    return np.clip( a*old+b*np.dot(coup,old)+.40*b*bias+np.random.normal(0,noi,len(old)),-.4,.4)\n",
    "def ising_energy(stuff,ad,bias):\n",
    "    return -0.5*1*np.dot(stuff,np.dot(ad,stuff))-np.sum(np.dot(bias,stuff))\n",
    "def ising_sample(array,NN,n_hid,noise,_a,_b):   \n",
    "    global result\n",
    "    global ens2\n",
    "    global ad\n",
    "    global chain\n",
    "    global bias\n",
    "    # test=np.loadtxt(r'bla.txt') #edge list\n",
    "    # print(test.type)\n",
    "    test=np.array(array)\n",
    "    N=int(np.max(test)) #number of nodes\n",
    "    ad=np.zeros((N,N)) #adjacency matrix\n",
    "    for i in range(0,len(test)): #initialize\n",
    "        ad[int(test[i,0])-1,int(test[i,1])-1]+=(test[i,2])\n",
    "    bias=np.zeros(N)\n",
    "    for i in range(0,N):\n",
    "        bias[i]+=ad[i,i]\n",
    "        ad[i,i]=0\n",
    "    # parameters for alpha and beta\n",
    "    a=_a\n",
    "    b=_b\n",
    "    noise_strength=noise\n",
    "    chain=np.zeros(N)\n",
    "    ens2=np.zeros(NN)\n",
    "    result=[]\n",
    "    for i in range(0,NN):\n",
    "        chain=map_clip(chain,ad,bias,a,b,noise_strength)\n",
    "        chain_a=np.sign(chain)\n",
    "        ens2[i]=ising_energy(chain_a,ad,bias)\n",
    "        result.append(ens2[i])\n",
    "    result=np.array(result)\n",
    "    return result\n",
    "##计算频率的函数\n",
    "def calculate(array):\n",
    "    counter = Counter(array)\n",
    "    numbers = np.array(list(counter.keys()))  # 数的大小\n",
    "    frequencies = np.array(list(counter.values()))  # 频率\n",
    "    all_counts=np.sum(frequencies)\n",
    "    P=frequencies/all_counts\n",
    "        # 将 numbers 和 P 配对\n",
    "    paired = list(zip(numbers, P))\n",
    "    # 按 numbers 的值进行排序（默认升序）\n",
    "    paired_sorted = sorted(paired, key=lambda x: x[0])\n",
    "    # 解压排序后的结果\n",
    "    numbers, P= zip(*paired_sorted)\n",
    "    return np.array(numbers),np.array(P)"
   ]
  },
  {
   "cell_type": "code",
   "execution_count": 3,
   "id": "7d6d4b6f-ddee-4e7b-9504-0b9f2e8d2f30",
   "metadata": {},
   "outputs": [],
   "source": [
    "import numpy as np\n",
    "k=1\n",
    "T=3.4\n",
    "flip_prob=(np.exp(-(4)/(k*T)))\n",
    "ens=np.zeros(0)\n",
    "def ising_energy(stuff,ad,bias):\n",
    "    return -0.5*1*np.dot(stuff,np.dot(ad,stuff))-np.sum(np.dot(bias,stuff))\n",
    "def flip2(e_new,e_old,new,old):\n",
    "    flip_prob=(np.exp(-(e_new-e_old)/(k*T)))\n",
    "    if(np.random.rand()<flip_prob):\n",
    "        return new\n",
    "    else:\n",
    "        return old\n",
    "def flip(stuff,index,ad,bias):\n",
    "    temp=np.copy(stuff)\n",
    "    temp[index]=-1*temp[index]\n",
    "    temp_energy=ising_energy(temp,ad,bias)\n",
    "    energy=ising_energy(stuff,ad,bias)\n",
    "    global ens\n",
    "    #ens=np.append(ens,energy)\n",
    "    if(temp_energy<=energy):\n",
    "        return temp\n",
    "    else:\n",
    "        return flip2(temp_energy,energy,temp,stuff)\n",
    "    \n",
    "def mcmc_sample(NN,n_hid,array):   \n",
    "    test=array #edge list\n",
    "    N=int(np.max(test)) #number of nodes\n",
    "    ad=np.zeros((N,N)) #adjacency matrix\n",
    "    for i in range(0,len(test)): #initialize\n",
    "        ad[int(test[i,0])-1,int(test[i,1])-1]+=(test[i,2])\n",
    "    bias=np.zeros((N,N))\n",
    "    for i in range(0,N):\n",
    "        bias[i,i]+=ad[i,i]\n",
    "        ad[i,i]=0\n",
    "    #doblit=True\n",
    "    chain=np.sign(np.random.rand(N)*2+0.01-1)\n",
    "    ens2=np.zeros((N,int(NN/1-1000)))\n",
    "    #chain=np.zeros(N)\n",
    "    result=[]\n",
    "    for i in range(0,NN):\n",
    "        #chain=flip(chain,int(np.random.rand()*N))    #random update order\n",
    "        chain=flip(chain,i%N,ad,bias)   #typewirter update order, does not work well in 1D, better in 2D\n",
    "        if(i>1000 and i%1==0):\n",
    "            #if(i%1000==0):\n",
    "                #print(i)\n",
    "            result.append(ising_energy(chain,ad,bias))\n",
    "    return np.array(result)"
   ]
  },
  {
   "cell_type": "code",
   "execution_count": 19,
   "id": "e99f95d5-4cab-4a37-a746-6286e6ebc6cd",
   "metadata": {},
   "outputs": [
    {
     "name": "stdout",
     "output_type": "stream",
     "text": [
      "(360, 3)\n",
      "矩阵已成功写入 matrix.txt 文件\n"
     ]
    }
   ],
   "source": [
    "import random\n",
    "import pandas as pd\n",
    "# 设置随机数种子以确保结果可重复         生成矩阵  每个节点和上下左右四个节点连接  \n",
    "random.seed(42)  # 可以选择任意整数作为种子值\n",
    "# 初始化边列表\n",
    "def out_ans(N):\n",
    "    edges = []\n",
    "    # 添加水平边\n",
    "    rows=N\n",
    "    cols=N ###结点数为N*N\n",
    "    random_num=-1\n",
    "    for row in range(rows):\n",
    "        for col in range(cols - 1):  # 每行最多有 cols-1 条水平边\n",
    "            node1 = row * cols + col + 1  # 当前节点编号\n",
    "            node2 = node1 + 1             # 右侧相邻节点编号\n",
    "            edges.append([node1, node2,random_num])\n",
    "            edges.append([node2, node1,random_num])\n",
    "    # 添加垂直边\n",
    "    for col in range(cols):\n",
    "        for row in range(rows - 1):  # 每列最多有 rows-1 条垂直边\n",
    "            node1 = row * cols + col + 1  # 当前节点编号\n",
    "            node2 = node1 + cols          # 下方相邻节点编号\n",
    "            edges.append([node1, node2, random_num])\n",
    "            edges.append([node2, node1, random_num])\n",
    "    return np.array(edges)\n",
    "matrix=out_ans(10)\n",
    "print(matrix.shape)\n",
    "# 转换为 DataFrame 并写入 txt 文件\n",
    "df = pd.DataFrame(matrix)\n",
    "df.to_csv('matrix.txt', header=False, index=False, sep=' ')  # 不写入表头和索引，用逗号分隔\n",
    "print(\"矩阵已成功写入 matrix.txt 文件\")"
   ]
  },
  {
   "cell_type": "code",
   "execution_count": 16,
   "id": "29a0670f-693e-4f78-90f1-f2828e657cd4",
   "metadata": {},
   "outputs": [
    {
     "name": "stdout",
     "output_type": "stream",
     "text": [
      "矩阵已成功写入 matrix2.txt 文件\n"
     ]
    }
   ],
   "source": [
    "import random\n",
    "import pandas as pd\n",
    "# 设置随机数种子以确保结果可重复         每个节点随机和其他4个节点连接   \n",
    "random.seed(42)  # 可以选择任意整数作为种子值\n",
    "# 初始化边列表\n",
    "def out_ans(N):\n",
    "    edges = []\n",
    "    num_nodes = N  # 总节点数为 N\n",
    "    random_num=-1\n",
    "    for node in range(1, num_nodes + 1):  # 节点编号从 1 到 N\n",
    "        other_nodes = list(range(1, num_nodes + 1))  # 所有节点\n",
    "        other_nodes.remove(node)  # 移除自身，避免自环\n",
    "        if len(other_nodes) > 8:  # 确保节点数足够\n",
    "            neighbors = random.sample(other_nodes, 4)  # 随机选择 4 个邻居\n",
    "        else:\n",
    "            neighbors = other_nodes  # 如果节点不足 8 个，则连接所有可用节点\n",
    "        for neighbor in neighbors:\n",
    "            random_num = random_num  # 随机权重\n",
    "            edges.append([node, neighbor, random_num])  # 添加正向边\n",
    "            edges.append([neighbor, node, random_num])  # 添加反向边\n",
    "    return np.array(edges)\n",
    "matrix2=out_ans(100)\n",
    "# 转换为 DataFrame 并写入 txt 文件\n",
    "df = pd.DataFrame(matrix2)\n",
    "df.to_csv('matrix2.txt', header=False, index=False, sep=' ')  # 不写入表头和索引，用逗号分隔\n",
    "print(\"矩阵已成功写入 matrix2.txt 文件\")"
   ]
  },
  {
   "cell_type": "code",
   "execution_count": 33,
   "id": "c3ec45fa-82db-40f8-9cdb-6e40e86ea3e0",
   "metadata": {},
   "outputs": [
    {
     "data": {
      "text/plain": [
       "<matplotlib.legend.Legend at 0x1249ae3a0>"
      ]
     },
     "execution_count": 33,
     "metadata": {},
     "output_type": "execute_result"
    },
    {
     "data": {
      "image/png": "[encoded data removed]",
      "text/plain": [
       "<Figure size 640x480 with 1 Axes>"
      ]
     },
     "metadata": {},
     "output_type": "display_data"
    }
   ],
   "source": [
    "import matplotlib.pyplot as plt\n",
    "import numpy as np\n",
    "from collections import Counter\n",
    "from sklearn.linear_model import TheilSenRegressor\n",
    "from scipy import stats\n",
    "noise=0.19\n",
    "a=0.8\n",
    "b=0.1\n",
    "NN=90000\n",
    "n_hid=2\n",
    "array=np.loadtxt(r'matrix.txt',delimiter=' ', dtype=np.float64) #edge list\n",
    "data= ising_sample(array,NN, n_hid ,noise,a,b) ##采样cim采样\n",
    "numbers,P=calculate(data)\n",
    "x=numbers.flatten()\n",
    "y=np.log(P.flatten())\n",
    "coefficients = np.polyfit(x, y, 1)\n",
    "slope=coefficients[0]\n",
    "intercept = coefficients[1]  # 截距\n",
    "plt.plot(numbers, P,c='blue',label=\"Cim sample\")\n",
    "data2=mcmc_sample(NN,n_hid,array) ##采样mcmc采样\n",
    "numbers,P=calculate(data2)\n",
    "plt.scatter(numbers, P,c='blue',s=10,label='Mcmc sample')\n",
    "plt.xlabel('Energy', fontsize=14)\n",
    "plt.ylabel('Probabilities', fontsize=14)\n",
    "# 显示图例\n",
    "plt.legend()"
   ]
  }
 ],
 "metadata": {
  "kernelspec": {
   "display_name": "Python 3 (ipykernel)",
   "language": "python",
   "name": "python3"
  },
  "language_info": {
   "codemirror_mode": {
    "name": "ipython",
    "version": 3
   },
   "file_extension": ".py",
   "mimetype": "text/x-python",
   "name": "python",
   "nbconvert_exporter": "python",
   "pygments_lexer": "ipython3",
   "version": "3.8.10"
  }
 },
 "nbformat": 4,
 "nbformat_minor": 5
}
